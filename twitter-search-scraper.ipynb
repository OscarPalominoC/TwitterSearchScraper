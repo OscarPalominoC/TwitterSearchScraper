{
 "cells": [
  {
   "cell_type": "markdown",
   "metadata": {},
   "source": [
    "# Tweet Scraper"
   ]
  },
  {
   "cell_type": "code",
   "execution_count": 1,
   "metadata": {},
   "outputs": [],
   "source": [
    "import tweepy\n",
    "import pandas as pd"
   ]
  },
  {
   "cell_type": "code",
   "execution_count": 2,
   "metadata": {},
   "outputs": [
    {
     "name": "stdout",
     "output_type": "stream",
     "text": [
      "Authentication OK\n"
     ]
    }
   ],
   "source": [
    "# Comprobamos la conexión.\n",
    "auth = tweepy.OAuthHandler(\"X4Y7Y04awoRF1MCyQa7GihgnP\", \n",
    "    \"1Df4QFiMAxSmDNx2mpFv1DSLx3CZgHwQWDC4eO3QG8T6vCXv4E\")\n",
    "auth.set_access_token(\"375970946-vtiEnm2V2cv7GehiKclmzglcOXODsiYk4NHAH6Ty\", \n",
    "    \"4igL12gmSDv9hxmN9Uk87xKaMEbVUYLummFetGrLLHBT2\")\n",
    "\n",
    "api = tweepy.API(auth)\n",
    "\n",
    "try:\n",
    "    api.verify_credentials()\n",
    "    print(\"Authentication OK\")\n",
    "except:\n",
    "    print(\"Error during authentication\")"
   ]
  },
  {
   "cell_type": "code",
   "execution_count": 4,
   "metadata": {
    "scrolled": true
   },
   "outputs": [],
   "source": [
    "# Realizamos la búsqueda y guardamos en dos listas.\n",
    "test = []\n",
    "tweets = []\n",
    "username = []\n",
    "screen_name = []\n",
    "date = []\n",
    "hashtags = []\n",
    "tweet_url = []\n",
    "results = {}\n",
    "for tweet in api.search(q=\"Bogota\", lang=\"es\", rpp=500, count=100, include_entities=True):\n",
    "    tmp = tweet.entities['hashtags']\n",
    "    test.append(tweet)\n",
    "    tweets.append(tweet.text)\n",
    "    username.append(tweet.user.name)\n",
    "    screen_name.append('@'+tweet.user.screen_name)\n",
    "    date.append(tweet.created_at)\n",
    "    hashtags.append(tweet.entities['hashtags'])\n",
    "    #tweet_url.append(tweet.urls['url'])\n",
    "    \n",
    "# Creamos un dataframe con la busqueda realizada.\n",
    "results = pd.DataFrame({'username':username, 'screen_name':screen_name, 'date':date, 'tweet':tweets, 'hashtags': hashtags})"
   ]
  },
  {
   "cell_type": "code",
   "execution_count": null,
   "metadata": {},
   "outputs": [],
   "source": [
    "# Linux\n",
    "# results.to_csv('/home/oscar-dev/Platzimaster/Week10/TwitterSearchScraper/results.csv')\n",
    "# Windowsb\n",
    "results.to_excel('D:\\\\Projects\\\\tweetsScraper\\\\results.xlsx')"
   ]
  },
  {
   "cell_type": "code",
   "execution_count": 5,
   "metadata": {},
   "outputs": [
    {
     "data": {
      "text/plain": [
       "Status(_api=<tweepy.api.API object at 0x0000025DEA3F3580>, _json={'created_at': 'Fri Sep 11 13:21:31 +0000 2020', 'id': 1304409741397983233, 'id_str': '1304409741397983233', 'text': '@bbcmundo La brutalidad policial es incuestionable en esta ocasión, el uso indiscriminado de armas de fuego en cont… https://t.co/Z02ZHa6G8i', 'truncated': True, 'entities': {'hashtags': [], 'symbols': [], 'user_mentions': [{'screen_name': 'bbcmundo', 'name': 'BBC News Mundo', 'id': 10012122, 'id_str': '10012122', 'indices': [0, 9]}], 'urls': [{'url': 'https://t.co/Z02ZHa6G8i', 'expanded_url': 'https://twitter.com/i/web/status/1304409741397983233', 'display_url': 'twitter.com/i/web/status/1…', 'indices': [117, 140]}]}, 'metadata': {'iso_language_code': 'es', 'result_type': 'recent'}, 'source': '<a href=\"http://twitter.com/download/android\" rel=\"nofollow\">Twitter for Android</a>', 'in_reply_to_status_id': 1304396538182074368, 'in_reply_to_status_id_str': '1304396538182074368', 'in_reply_to_user_id': 10012122, 'in_reply_to_user_id_str': '10012122', 'in_reply_to_screen_name': 'bbcmundo', 'user': {'id': 1280242226547785730, 'id_str': '1280242226547785730', 'name': 'Cristian', 'screen_name': 'Cristia23358677', 'location': '', 'description': '', 'url': None, 'entities': {'description': {'urls': []}}, 'protected': False, 'followers_count': 0, 'friends_count': 81, 'listed_count': 0, 'created_at': 'Mon Jul 06 20:48:36 +0000 2020', 'favourites_count': 18, 'utc_offset': None, 'time_zone': None, 'geo_enabled': False, 'verified': False, 'statuses_count': 18, 'lang': None, 'contributors_enabled': False, 'is_translator': False, 'is_translation_enabled': False, 'profile_background_color': 'F5F8FA', 'profile_background_image_url': None, 'profile_background_image_url_https': None, 'profile_background_tile': False, 'profile_image_url': 'http://abs.twimg.com/sticky/default_profile_images/default_profile_normal.png', 'profile_image_url_https': 'https://abs.twimg.com/sticky/default_profile_images/default_profile_normal.png', 'profile_link_color': '1DA1F2', 'profile_sidebar_border_color': 'C0DEED', 'profile_sidebar_fill_color': 'DDEEF6', 'profile_text_color': '333333', 'profile_use_background_image': True, 'has_extended_profile': True, 'default_profile': True, 'default_profile_image': True, 'following': False, 'follow_request_sent': False, 'notifications': False, 'translator_type': 'none'}, 'geo': None, 'coordinates': None, 'place': None, 'contributors': None, 'is_quote_status': False, 'retweet_count': 0, 'favorite_count': 0, 'favorited': False, 'retweeted': False, 'lang': 'es'}, created_at=datetime.datetime(2020, 9, 11, 13, 21, 31), id=1304409741397983233, id_str='1304409741397983233', text='@bbcmundo La brutalidad policial es incuestionable en esta ocasión, el uso indiscriminado de armas de fuego en cont… https://t.co/Z02ZHa6G8i', truncated=True, entities={'hashtags': [], 'symbols': [], 'user_mentions': [{'screen_name': 'bbcmundo', 'name': 'BBC News Mundo', 'id': 10012122, 'id_str': '10012122', 'indices': [0, 9]}], 'urls': [{'url': 'https://t.co/Z02ZHa6G8i', 'expanded_url': 'https://twitter.com/i/web/status/1304409741397983233', 'display_url': 'twitter.com/i/web/status/1…', 'indices': [117, 140]}]}, metadata={'iso_language_code': 'es', 'result_type': 'recent'}, source='Twitter for Android', source_url='http://twitter.com/download/android', in_reply_to_status_id=1304396538182074368, in_reply_to_status_id_str='1304396538182074368', in_reply_to_user_id=10012122, in_reply_to_user_id_str='10012122', in_reply_to_screen_name='bbcmundo', author=User(_api=<tweepy.api.API object at 0x0000025DEA3F3580>, _json={'id': 1280242226547785730, 'id_str': '1280242226547785730', 'name': 'Cristian', 'screen_name': 'Cristia23358677', 'location': '', 'description': '', 'url': None, 'entities': {'description': {'urls': []}}, 'protected': False, 'followers_count': 0, 'friends_count': 81, 'listed_count': 0, 'created_at': 'Mon Jul 06 20:48:36 +0000 2020', 'favourites_count': 18, 'utc_offset': None, 'time_zone': None, 'geo_enabled': False, 'verified': False, 'statuses_count': 18, 'lang': None, 'contributors_enabled': False, 'is_translator': False, 'is_translation_enabled': False, 'profile_background_color': 'F5F8FA', 'profile_background_image_url': None, 'profile_background_image_url_https': None, 'profile_background_tile': False, 'profile_image_url': 'http://abs.twimg.com/sticky/default_profile_images/default_profile_normal.png', 'profile_image_url_https': 'https://abs.twimg.com/sticky/default_profile_images/default_profile_normal.png', 'profile_link_color': '1DA1F2', 'profile_sidebar_border_color': 'C0DEED', 'profile_sidebar_fill_color': 'DDEEF6', 'profile_text_color': '333333', 'profile_use_background_image': True, 'has_extended_profile': True, 'default_profile': True, 'default_profile_image': True, 'following': False, 'follow_request_sent': False, 'notifications': False, 'translator_type': 'none'}, id=1280242226547785730, id_str='1280242226547785730', name='Cristian', screen_name='Cristia23358677', location='', description='', url=None, entities={'description': {'urls': []}}, protected=False, followers_count=0, friends_count=81, listed_count=0, created_at=datetime.datetime(2020, 7, 6, 20, 48, 36), favourites_count=18, utc_offset=None, time_zone=None, geo_enabled=False, verified=False, statuses_count=18, lang=None, contributors_enabled=False, is_translator=False, is_translation_enabled=False, profile_background_color='F5F8FA', profile_background_image_url=None, profile_background_image_url_https=None, profile_background_tile=False, profile_image_url='http://abs.twimg.com/sticky/default_profile_images/default_profile_normal.png', profile_image_url_https='https://abs.twimg.com/sticky/default_profile_images/default_profile_normal.png', profile_link_color='1DA1F2', profile_sidebar_border_color='C0DEED', profile_sidebar_fill_color='DDEEF6', profile_text_color='333333', profile_use_background_image=True, has_extended_profile=True, default_profile=True, default_profile_image=True, following=False, follow_request_sent=False, notifications=False, translator_type='none'), user=User(_api=<tweepy.api.API object at 0x0000025DEA3F3580>, _json={'id': 1280242226547785730, 'id_str': '1280242226547785730', 'name': 'Cristian', 'screen_name': 'Cristia23358677', 'location': '', 'description': '', 'url': None, 'entities': {'description': {'urls': []}}, 'protected': False, 'followers_count': 0, 'friends_count': 81, 'listed_count': 0, 'created_at': 'Mon Jul 06 20:48:36 +0000 2020', 'favourites_count': 18, 'utc_offset': None, 'time_zone': None, 'geo_enabled': False, 'verified': False, 'statuses_count': 18, 'lang': None, 'contributors_enabled': False, 'is_translator': False, 'is_translation_enabled': False, 'profile_background_color': 'F5F8FA', 'profile_background_image_url': None, 'profile_background_image_url_https': None, 'profile_background_tile': False, 'profile_image_url': 'http://abs.twimg.com/sticky/default_profile_images/default_profile_normal.png', 'profile_image_url_https': 'https://abs.twimg.com/sticky/default_profile_images/default_profile_normal.png', 'profile_link_color': '1DA1F2', 'profile_sidebar_border_color': 'C0DEED', 'profile_sidebar_fill_color': 'DDEEF6', 'profile_text_color': '333333', 'profile_use_background_image': True, 'has_extended_profile': True, 'default_profile': True, 'default_profile_image': True, 'following': False, 'follow_request_sent': False, 'notifications': False, 'translator_type': 'none'}, id=1280242226547785730, id_str='1280242226547785730', name='Cristian', screen_name='Cristia23358677', location='', description='', url=None, entities={'description': {'urls': []}}, protected=False, followers_count=0, friends_count=81, listed_count=0, created_at=datetime.datetime(2020, 7, 6, 20, 48, 36), favourites_count=18, utc_offset=None, time_zone=None, geo_enabled=False, verified=False, statuses_count=18, lang=None, contributors_enabled=False, is_translator=False, is_translation_enabled=False, profile_background_color='F5F8FA', profile_background_image_url=None, profile_background_image_url_https=None, profile_background_tile=False, profile_image_url='http://abs.twimg.com/sticky/default_profile_images/default_profile_normal.png', profile_image_url_https='https://abs.twimg.com/sticky/default_profile_images/default_profile_normal.png', profile_link_color='1DA1F2', profile_sidebar_border_color='C0DEED', profile_sidebar_fill_color='DDEEF6', profile_text_color='333333', profile_use_background_image=True, has_extended_profile=True, default_profile=True, default_profile_image=True, following=False, follow_request_sent=False, notifications=False, translator_type='none'), geo=None, coordinates=None, place=None, contributors=None, is_quote_status=False, retweet_count=0, favorite_count=0, favorited=False, retweeted=False, lang='es')"
      ]
     },
     "execution_count": 5,
     "metadata": {},
     "output_type": "execute_result"
    }
   ],
   "source": [
    "test[0]"
   ]
  },
  {
   "cell_type": "code",
   "execution_count": 13,
   "metadata": {},
   "outputs": [
    {
     "data": {
      "text/plain": [
       "{'hashtags': [{'text': 'BogotáEnLlamas', 'indices': [81, 96]}],\n",
       " 'symbols': [],\n",
       " 'user_mentions': [{'screen_name': 'matarifeco',\n",
       "   'name': 'Matarife',\n",
       "   'id': 1260023987242848258,\n",
       "   'id_str': '1260023987242848258',\n",
       "   'indices': [3, 14]}],\n",
       " 'urls': [],\n",
       " 'media': [{'id': 1304293230532530176,\n",
       "   'id_str': '1304293230532530176',\n",
       "   'indices': [97, 120],\n",
       "   'media_url': 'http://pbs.twimg.com/ext_tw_video_thumb/1304293230532530176/pu/img/dbyPcHbnxktEArx0.jpg',\n",
       "   'media_url_https': 'https://pbs.twimg.com/ext_tw_video_thumb/1304293230532530176/pu/img/dbyPcHbnxktEArx0.jpg',\n",
       "   'url': 'https://t.co/qzUTvL5V93',\n",
       "   'display_url': 'pic.twitter.com/qzUTvL5V93',\n",
       "   'expanded_url': 'https://twitter.com/matarifeco/status/1304293588222828545/video/1',\n",
       "   'type': 'photo',\n",
       "   'sizes': {'thumb': {'w': 150, 'h': 150, 'resize': 'crop'},\n",
       "    'small': {'w': 585, 'h': 680, 'resize': 'fit'},\n",
       "    'large': {'w': 1080, 'h': 1256, 'resize': 'fit'},\n",
       "    'medium': {'w': 1032, 'h': 1200, 'resize': 'fit'}},\n",
       "   'source_status_id': 1304293588222828545,\n",
       "   'source_status_id_str': '1304293588222828545',\n",
       "   'source_user_id': 1260023987242848258,\n",
       "   'source_user_id_str': '1260023987242848258'}]}"
      ]
     },
     "execution_count": 13,
     "metadata": {},
     "output_type": "execute_result"
    }
   ],
   "source": [
    "test[19].entities"
   ]
  }
 ],
 "metadata": {
  "kernelspec": {
   "display_name": "Python 3",
   "language": "python",
   "name": "python3"
  },
  "language_info": {
   "codemirror_mode": {
    "name": "ipython",
    "version": 3
   },
   "file_extension": ".py",
   "mimetype": "text/x-python",
   "name": "python",
   "nbconvert_exporter": "python",
   "pygments_lexer": "ipython3",
   "version": "3.8.5"
  }
 },
 "nbformat": 4,
 "nbformat_minor": 4
}

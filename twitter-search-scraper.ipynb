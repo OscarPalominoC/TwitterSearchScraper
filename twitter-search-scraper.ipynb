{
 "cells": [
  {
   "cell_type": "markdown",
   "metadata": {},
   "source": [
    "# Tweet Scraper"
   ]
  },
  {
   "cell_type": "code",
   "execution_count": 1,
   "metadata": {},
   "outputs": [],
   "source": [
    "import tweepy\n",
    "import pandas as pd"
   ]
  },
  {
   "cell_type": "code",
   "execution_count": 2,
   "metadata": {},
   "outputs": [
    {
     "name": "stdout",
     "output_type": "stream",
     "text": [
      "Authentication OK\n"
     ]
    }
   ],
   "source": [
    "# Comprobamos la conexión.\n",
    "auth = tweepy.OAuthHandler(\"X4Y7Y04awoRF1MCyQa7GihgnP\", \n",
    "    \"1Df4QFiMAxSmDNx2mpFv1DSLx3CZgHwQWDC4eO3QG8T6vCXv4E\")\n",
    "auth.set_access_token(\"375970946-vtiEnm2V2cv7GehiKclmzglcOXODsiYk4NHAH6Ty\", \n",
    "    \"4igL12gmSDv9hxmN9Uk87xKaMEbVUYLummFetGrLLHBT2\")\n",
    "\n",
    "api = tweepy.API(auth)\n",
    "\n",
    "try:\n",
    "    api.verify_credentials()\n",
    "    print(\"Authentication OK\")\n",
    "except:\n",
    "    print(\"Error during authentication\")"
   ]
  },
  {
   "cell_type": "code",
   "execution_count": 3,
   "metadata": {
    "scrolled": true
   },
   "outputs": [],
   "source": [
    "# Realizamos la búsqueda y guardamos en dos listas.\n",
    "test = []\n",
    "tweets = []\n",
    "username = []\n",
    "screen_name = []\n",
    "date = []\n",
    "hashtags = []\n",
    "tweet_url = []\n",
    "results = {}\n",
    "for tweet in api.search(q=\"Bogota\", lang=\"es\", rpp=500, count=100):\n",
    "    tmp = tweet.entities['hashtags']\n",
    "    test.append(tweet)\n",
    "    tweets.append(tweet.text)\n",
    "    username.append(tweet.user.name)\n",
    "    screen_name.append('@'+tweet.user.screen_name)\n",
    "    date.append(tweet.created_at)\n",
    "    hashtags.append(tweet.entities['hashtags'])\n",
    "    #tweet_url.append(tweet.urls['url'])\n",
    "    \n",
    "# Creamos un dataframe con la busqueda realizada.\n",
    "results = pd.DataFrame({'username':username, 'screen_name':screen_name, 'date':date, 'tweet':tweets, 'hashtags': hashtags})"
   ]
  },
  {
   "cell_type": "code",
   "execution_count": 5,
   "metadata": {},
   "outputs": [],
   "source": [
    "# Linux\n",
    "# results.to_csv('/home/oscar-dev/Platzimaster/Week10/TwitterSearchScraper/results.csv')\n",
    "# Windows\n",
    "results.to_excel('D:\\\\Projects\\\\tweetsScraper\\\\results.xlsx')"
   ]
  }
 ],
 "metadata": {
  "kernelspec": {
   "display_name": "Python 3",
   "language": "python",
   "name": "python3"
  },
  "language_info": {
   "codemirror_mode": {
    "name": "ipython",
    "version": 3
   },
   "file_extension": ".py",
   "mimetype": "text/x-python",
   "name": "python",
   "nbconvert_exporter": "python",
   "pygments_lexer": "ipython3",
   "version": "3.7.6"
  }
 },
 "nbformat": 4,
 "nbformat_minor": 4
}
